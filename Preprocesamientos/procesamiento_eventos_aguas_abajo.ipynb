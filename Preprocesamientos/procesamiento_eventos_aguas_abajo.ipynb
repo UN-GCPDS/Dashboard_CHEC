{
 "cells": [
  {
   "cell_type": "code",
   "execution_count": 1,
   "id": "0d99deb7",
   "metadata": {
    "_cell_guid": "b1076dfc-b9ad-4769-8c92-a6c4dae69d19",
    "_uuid": "8f2839f25d086af736a60e9eeb907d3b93b6e0e5",
    "execution": {
     "iopub.execute_input": "2025-01-22T00:59:01.922775Z",
     "iopub.status.busy": "2025-01-22T00:59:01.922325Z",
     "iopub.status.idle": "2025-01-22T00:59:02.862909Z",
     "shell.execute_reply": "2025-01-22T00:59:02.861777Z"
    },
    "papermill": {
     "duration": 0.946486,
     "end_time": "2025-01-22T00:59:02.864893",
     "exception": false,
     "start_time": "2025-01-22T00:59:01.918407",
     "status": "completed"
    },
    "tags": []
   },
   "outputs": [],
   "source": [
    "import os\n",
    "import time\n",
    "import datetime\n",
    "import numpy as np\n",
    "import pandas as pd\n",
    "from datetime import datetime, date"
   ]
  },
  {
   "cell_type": "code",
   "execution_count": 2,
   "id": "b0b332c3",
   "metadata": {
    "execution": {
     "iopub.execute_input": "2025-01-22T00:59:02.870914Z",
     "iopub.status.busy": "2025-01-22T00:59:02.870434Z",
     "iopub.status.idle": "2025-01-22T00:59:17.423626Z",
     "shell.execute_reply": "2025-01-22T00:59:17.422404Z"
    },
    "papermill": {
     "duration": 14.558079,
     "end_time": "2025-01-22T00:59:17.425652",
     "exception": false,
     "start_time": "2025-01-22T00:59:02.867573",
     "status": "completed"
    },
    "tags": []
   },
   "outputs": [],
   "source": [
    "eventos = pd.read_pickle('/kaggle/input/SuperEventos_Criticidad_AguasAbajo.pkl')\n",
    "# Crear la nueva columna como un DataFrame separado\n",
    "nueva_columna = pd.DataFrame({\n",
    "    'TRAMOS_AGUAS_ABAJO_CODES': pd.Series([0] * len(eventos), dtype='object')\n",
    "}, index=eventos.index)\n",
    "\n",
    "# Concatenar la nueva columna al DataFrame original\n",
    "eventos = pd.concat([eventos, nueva_columna], axis=1)\n",
    "redmt = pd.read_pickle('/kaggle/input/REDMT_1.pkl')"
   ]
  },
  {
   "cell_type": "code",
   "execution_count": 3,
   "id": "c685817f",
   "metadata": {
    "execution": {
     "iopub.execute_input": "2025-01-22T00:59:17.431161Z",
     "iopub.status.busy": "2025-01-22T00:59:17.430811Z",
     "iopub.status.idle": "2025-01-22T00:59:17.435603Z",
     "shell.execute_reply": "2025-01-22T00:59:17.434503Z"
    },
    "papermill": {
     "duration": 0.009395,
     "end_time": "2025-01-22T00:59:17.437341",
     "exception": false,
     "start_time": "2025-01-22T00:59:17.427946",
     "status": "completed"
    },
    "tags": []
   },
   "outputs": [],
   "source": [
    "e = 5\n",
    "inicio, fin = round(len(eventos)/5*(e-1)), round(len(eventos)/5*(e))\n",
    "eventos_1 = eventos.iloc[inicio:fin]"
   ]
  },
  {
   "cell_type": "code",
   "execution_count": 4,
   "id": "707e021e",
   "metadata": {
    "execution": {
     "iopub.execute_input": "2025-01-22T00:59:17.442890Z",
     "iopub.status.busy": "2025-01-22T00:59:17.442539Z",
     "iopub.status.idle": "2025-01-22T07:01:01.406068Z",
     "shell.execute_reply": "2025-01-22T07:01:01.404695Z"
    },
    "papermill": {
     "duration": 21703.975206,
     "end_time": "2025-01-22T07:01:01.414867",
     "exception": false,
     "start_time": "2025-01-22T00:59:17.439661",
     "status": "completed"
    },
    "tags": []
   },
   "outputs": [
    {
     "name": "stdout",
     "output_type": "stream",
     "text": [
      "Procesando eventos del 133058 hasta 166323...\n",
      "\n",
      "[..................................................] 1% (333/33265 filas completadas) - 225.96 s\n",
      "[#.................................................] 2% (666/33265 filas completadas) - 437.22 s\n",
      "[#.................................................] 3% (998/33265 filas completadas) - 649.67 s\n",
      "[##................................................] 4% (1331/33265 filas completadas) - 867.96 s\n",
      "[##................................................] 5% (1664/33265 filas completadas) - 1085.47 s\n",
      "[###...............................................] 6% (1996/33265 filas completadas) - 1300.84 s\n",
      "[###...............................................] 7% (2329/33265 filas completadas) - 1508.37 s\n",
      "[####..............................................] 8% (2662/33265 filas completadas) - 1717.02 s\n",
      "[####..............................................] 9% (2994/33265 filas completadas) - 1928.12 s\n",
      "[#####.............................................] 10% (3327/33265 filas completadas) - 2132.76 s\n",
      "[#####.............................................] 11% (3660/33265 filas completadas) - 2338.08 s\n",
      "[######............................................] 12% (3992/33265 filas completadas) - 2547.54 s\n",
      "[######............................................] 13% (4325/33265 filas completadas) - 2759.07 s\n",
      "[#######...........................................] 14% (4658/33265 filas completadas) - 2983.48 s\n",
      "[#######...........................................] 15% (4990/33265 filas completadas) - 3192.49 s\n",
      "[########..........................................] 16% (5323/33265 filas completadas) - 3402.43 s\n",
      "[########..........................................] 17% (5656/33265 filas completadas) - 3622.08 s\n",
      "[#########.........................................] 18% (5988/33265 filas completadas) - 3843.30 s\n",
      "[#########.........................................] 19% (6321/33265 filas completadas) - 4064.33 s\n",
      "[##########........................................] 20% (6653/33265 filas completadas) - 4279.16 s\n",
      "[##########........................................] 21% (6986/33265 filas completadas) - 4495.18 s\n",
      "[###########.......................................] 22% (7319/33265 filas completadas) - 4714.28 s\n",
      "[###########.......................................] 23% (7651/33265 filas completadas) - 4923.00 s\n",
      "[############......................................] 24% (7984/33265 filas completadas) - 5130.92 s\n",
      "[############......................................] 25% (8317/33265 filas completadas) - 5343.87 s\n",
      "[#############.....................................] 26% (8649/33265 filas completadas) - 5582.27 s\n",
      "[#############.....................................] 27% (8982/33265 filas completadas) - 5806.36 s\n",
      "[##############....................................] 28% (9315/33265 filas completadas) - 6031.63 s\n",
      "[##############....................................] 29% (9647/33265 filas completadas) - 6246.85 s\n",
      "[###############...................................] 30% (9980/33265 filas completadas) - 6475.79 s\n",
      "[###############...................................] 31% (10313/33265 filas completadas) - 6699.35 s\n",
      "[################..................................] 32% (10645/33265 filas completadas) - 6917.22 s\n",
      "[################..................................] 33% (10978/33265 filas completadas) - 7131.03 s\n",
      "[#################.................................] 34% (11311/33265 filas completadas) - 7352.66 s\n",
      "[#################.................................] 35% (11643/33265 filas completadas) - 7570.24 s\n",
      "[##################................................] 36% (11976/33265 filas completadas) - 7796.45 s\n",
      "[##################................................] 37% (12309/33265 filas completadas) - 8017.76 s\n",
      "[###################...............................] 38% (12641/33265 filas completadas) - 8233.10 s\n",
      "[###################...............................] 39% (12974/33265 filas completadas) - 8454.38 s\n",
      "[####################..............................] 40% (13306/33265 filas completadas) - 8676.64 s\n",
      "[####################..............................] 41% (13639/33265 filas completadas) - 8900.78 s\n",
      "[#####################.............................] 42% (13972/33265 filas completadas) - 9127.85 s\n",
      "[#####################.............................] 43% (14304/33265 filas completadas) - 9354.14 s\n",
      "[######################............................] 44% (14637/33265 filas completadas) - 9576.44 s\n",
      "[######################............................] 45% (14970/33265 filas completadas) - 9798.95 s\n",
      "[#######################...........................] 46% (15302/33265 filas completadas) - 10012.80 s\n",
      "[#######################...........................] 47% (15635/33265 filas completadas) - 10233.28 s\n",
      "[########################..........................] 48% (15968/33265 filas completadas) - 10451.84 s\n",
      "[########################..........................] 49% (16300/33265 filas completadas) - 10669.19 s\n",
      "[#########################.........................] 50% (16633/33265 filas completadas) - 10881.86 s\n",
      "[#########################.........................] 51% (16966/33265 filas completadas) - 11097.89 s\n",
      "[##########################........................] 52% (17298/33265 filas completadas) - 11318.72 s\n",
      "[##########################........................] 53% (17631/33265 filas completadas) - 11532.99 s\n",
      "[###########################.......................] 54% (17964/33265 filas completadas) - 11759.13 s\n",
      "[###########################.......................] 55% (18296/33265 filas completadas) - 11974.05 s\n",
      "[############################......................] 56% (18629/33265 filas completadas) - 12192.48 s\n",
      "[############################......................] 57% (18962/33265 filas completadas) - 12403.04 s\n",
      "[#############################.....................] 58% (19294/33265 filas completadas) - 12615.47 s\n",
      "[#############################.....................] 59% (19627/33265 filas completadas) - 12839.95 s\n",
      "[##############################....................] 60% (19959/33265 filas completadas) - 13073.02 s\n",
      "[##############################....................] 61% (20292/33265 filas completadas) - 13293.74 s\n",
      "[###############################...................] 62% (20625/33265 filas completadas) - 13505.19 s\n",
      "[###############################...................] 63% (20957/33265 filas completadas) - 13715.47 s\n",
      "[################################..................] 64% (21290/33265 filas completadas) - 13922.26 s\n",
      "[################################..................] 65% (21623/33265 filas completadas) - 14140.49 s\n",
      "[#################################.................] 66% (21955/33265 filas completadas) - 14367.28 s\n",
      "[#################################.................] 67% (22288/33265 filas completadas) - 14576.02 s\n",
      "[##################################................] 68% (22621/33265 filas completadas) - 14782.83 s\n",
      "[##################################................] 69% (22953/33265 filas completadas) - 14998.78 s\n",
      "[###################################...............] 70% (23286/33265 filas completadas) - 15216.26 s\n",
      "[###################################...............] 71% (23619/33265 filas completadas) - 15438.02 s\n",
      "[####################################..............] 72% (23951/33265 filas completadas) - 15651.01 s\n",
      "[####################################..............] 73% (24284/33265 filas completadas) - 15871.68 s\n",
      "[#####################################.............] 74% (24617/33265 filas completadas) - 16080.22 s\n",
      "[#####################################.............] 75% (24949/33265 filas completadas) - 16290.73 s\n",
      "[######################################............] 76% (25282/33265 filas completadas) - 16510.14 s\n",
      "[######################################............] 77% (25615/33265 filas completadas) - 16717.01 s\n",
      "[#######################################...........] 78% (25947/33265 filas completadas) - 16941.35 s\n",
      "[#######################################...........] 79% (26280/33265 filas completadas) - 17162.21 s\n",
      "[########################################..........] 80% (26612/33265 filas completadas) - 17381.46 s\n",
      "[########################################..........] 81% (26945/33265 filas completadas) - 17600.65 s\n",
      "[#########################################.........] 82% (27278/33265 filas completadas) - 17820.95 s\n",
      "[#########################################.........] 83% (27610/33265 filas completadas) - 18043.83 s\n",
      "[##########################################........] 84% (27943/33265 filas completadas) - 18263.97 s\n",
      "[##########################################........] 85% (28276/33265 filas completadas) - 18486.54 s\n",
      "[###########################################.......] 86% (28608/33265 filas completadas) - 18709.93 s\n",
      "[###########################################.......] 87% (28941/33265 filas completadas) - 18922.80 s\n",
      "[############################################......] 88% (29274/33265 filas completadas) - 19133.09 s\n",
      "[############################################......] 89% (29606/33265 filas completadas) - 19340.19 s\n",
      "[#############################################.....] 90% (29939/33265 filas completadas) - 19560.55 s\n",
      "[#############################################.....] 91% (30272/33265 filas completadas) - 19781.11 s\n",
      "[##############################################....] 92% (30604/33265 filas completadas) - 20000.79 s\n",
      "[##############################################....] 93% (30937/33265 filas completadas) - 20212.51 s\n",
      "[###############################################...] 94% (31270/33265 filas completadas) - 20415.55 s\n",
      "[###############################################...] 95% (31602/33265 filas completadas) - 20627.01 s\n",
      "[################################################..] 96% (31935/33265 filas completadas) - 20837.51 s\n",
      "[################################################..] 97% (32268/33265 filas completadas) - 21057.14 s\n",
      "[#################################################.] 98% (32600/33265 filas completadas) - 21271.61 s\n",
      "[#################################################.] 99% (32933/33265 filas completadas) - 21487.64 s\n",
      "[##################################################] 100% (33265/33265 filas completadas) - 21703.95 s\n",
      "\n",
      "Procesamiento completado.\n"
     ]
    }
   ],
   "source": [
    "# Tiempo de inicio del proceso\n",
    "inicio_tiempo = time.time()\n",
    "\n",
    "# Número total de filas\n",
    "total = len(eventos_1)\n",
    "inicio_str = inicio.strftime(\"%Y-%m-%d\") if isinstance(inicio, pd.Timestamp) else inicio\n",
    "fin_str = fin.strftime(\"%Y-%m-%d\") if isinstance(fin, pd.Timestamp) else fin\n",
    "\n",
    "print(f\"Procesando eventos del {inicio_str} hasta {fin_str}...\\n\")\n",
    "\n",
    "porcentaje_anterior = 0  # Para rastrear el último porcentaje impreso\n",
    "\n",
    "for i, (index, row_1) in enumerate(eventos_1.iterrows(), start=1):\n",
    "    # Procesamiento\n",
    "    nodos_aguas_abajo = set()\n",
    "    puntos_tramos = eval(row_1['TRAMOS_AGUAS_ABAJO'])  # Usar directamente row_1\n",
    "    nodos_aguas_abajo.update(puntos_tramos)\n",
    "\n",
    "    redmt_seleccionado = redmt.loc[(redmt['FECHA'].dt.year == row_1['inicio'].year) & \n",
    "                                   (redmt['FECHA'].dt.month == row_1['inicio'].month) & \n",
    "                                   (redmt['MUN'] == row_1['MUN'])]\n",
    "\n",
    "    codes = set()\n",
    "\n",
    "    for _, row_2 in redmt_seleccionado.iterrows():\n",
    "        if ((row_2['LATITUD'], row_2['LONGITUD']) in nodos_aguas_abajo and \n",
    "            (row_2['LATITUD2'], row_2['LONGITUD2']) in nodos_aguas_abajo):\n",
    "            codes.add(row_2['CODE'])\n",
    "\n",
    "    eventos_1.at[index, 'TRAMOS_AGUAS_ABAJO_CODES'] = str(codes)  # Usar at para asignar valores\n",
    "\n",
    "    # Calcular el porcentaje de progreso\n",
    "    porcentaje_actual = int((i / total) * 100)  # Porcentaje completado\n",
    "    if porcentaje_actual > porcentaje_anterior:  # Solo imprimir si cambia el porcentaje\n",
    "        tiempo_transcurrido = time.time() - inicio_tiempo  # Tiempo desde el inicio\n",
    "\n",
    "        # Construir la barra de progreso\n",
    "        barra = f\"[{'#' * (porcentaje_actual // 2)}{'.' * (50 - porcentaje_actual // 2)}]\"\n",
    "        \n",
    "        # Mostrar barra de progreso con porcentaje, filas procesadas y tiempo transcurrido\n",
    "        print(f\"\\r{barra} {porcentaje_actual}% ({i}/{total} filas completadas) - {tiempo_transcurrido:.2f} s\")\n",
    "        \n",
    "        porcentaje_anterior = porcentaje_actual\n",
    "\n",
    "print(\"\\nProcesamiento completado.\")"
   ]
  },
  {
   "cell_type": "code",
   "execution_count": 5,
   "id": "9a8f47e8",
   "metadata": {
    "execution": {
     "iopub.execute_input": "2025-01-22T07:01:01.431428Z",
     "iopub.status.busy": "2025-01-22T07:01:01.431064Z",
     "iopub.status.idle": "2025-01-22T07:01:02.056724Z",
     "shell.execute_reply": "2025-01-22T07:01:02.055423Z"
    },
    "papermill": {
     "duration": 0.636729,
     "end_time": "2025-01-22T07:01:02.059234",
     "exception": false,
     "start_time": "2025-01-22T07:01:01.422505",
     "status": "completed"
    },
    "tags": []
   },
   "outputs": [],
   "source": [
    "eventos_1.to_pickle(f'Eventos_AguasAbajo_CODEs_{e}.pkl')"
   ]
  }
 ],
 "metadata": {
  "kaggle": {
   "accelerator": "none",
   "dataSources": [
    {
     "datasetId": 6523332,
     "sourceId": 10542816,
     "sourceType": "datasetVersion"
    }
   ],
   "dockerImageVersionId": 30839,
   "isGpuEnabled": false,
   "isInternetEnabled": true,
   "language": "python",
   "sourceType": "notebook"
  },
  "kernelspec": {
   "display_name": "Python 3",
   "language": "python",
   "name": "python3"
  },
  "language_info": {
   "codemirror_mode": {
    "name": "ipython",
    "version": 3
   },
   "file_extension": ".py",
   "mimetype": "text/x-python",
   "name": "python",
   "nbconvert_exporter": "python",
   "pygments_lexer": "ipython3",
   "version": "3.10.12"
  },
  "papermill": {
   "default_parameters": {},
   "duration": 21725.649673,
   "end_time": "2025-01-22T07:01:04.816004",
   "environment_variables": {},
   "exception": null,
   "input_path": "__notebook__.ipynb",
   "output_path": "__notebook__.ipynb",
   "parameters": {},
   "start_time": "2025-01-22T00:58:59.166331",
   "version": "2.6.0"
  }
 },
 "nbformat": 4,
 "nbformat_minor": 5
}
