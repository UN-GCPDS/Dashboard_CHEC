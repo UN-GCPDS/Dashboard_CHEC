{
 "cells": [
  {
   "cell_type": "code",
   "execution_count": 2,
   "metadata": {},
   "outputs": [],
   "source": [
    "import random\n",
    "import datetime\n",
    "import operator\n",
    "import numpy as np\n",
    "import pandas as pd\n",
    "from datetime import date\n",
    "from datetime import datetime\n",
    "import matplotlib.pyplot as plt"
   ]
  },
  {
   "cell_type": "code",
   "execution_count": 119,
   "metadata": {},
   "outputs": [],
   "source": [
    "eventos_interruptor = pd.read_csv(\"C:/Users/lucas/OneDrive - Universidad Nacional de Colombia/PC-GCPDS/Documentos/data/Eventos_interruptor.csv\")"
   ]
  },
  {
   "cell_type": "code",
   "execution_count": 120,
   "metadata": {},
   "outputs": [
    {
     "data": {
      "text/plain": [
       "evento               int64\n",
       "equipo_ope          object\n",
       "tipo_equi_ope       object\n",
       "cto_equi_ope        object\n",
       "tipo_elemento       object\n",
       "inicio              object\n",
       "fin                 object\n",
       "duracion_h         float64\n",
       "tipo_duracion       object\n",
       "causa               object\n",
       "CNT_TRAFOS_AFEC      int64\n",
       "cnt_usus             int64\n",
       "SAIDI              float64\n",
       "SAIFI              float64\n",
       "ASSEMBLY            object\n",
       "PHASES             float64\n",
       "FPARENT             object\n",
       "KV                 float64\n",
       "STATE               object\n",
       "LINESECTIO          object\n",
       "FECHA               object\n",
       "LONGITUD           float64\n",
       "LATITUD            float64\n",
       "DEP                 object\n",
       "MUN                 object\n",
       "dtype: object"
      ]
     },
     "execution_count": 120,
     "metadata": {},
     "output_type": "execute_result"
    }
   ],
   "source": [
    "eventos_interruptor.dtypes"
   ]
  },
  {
   "cell_type": "code",
   "execution_count": 121,
   "metadata": {},
   "outputs": [],
   "source": [
    "eventos_interruptor[[\"evento\"]] = eventos_interruptor[[\"evento\"]].astype(\"object\")"
   ]
  },
  {
   "cell_type": "code",
   "execution_count": 123,
   "metadata": {},
   "outputs": [],
   "source": [
    "eventos_interruptor[[\"duracion_h\",\"SAIDI\", \"SAIFI\", \"PHASES\",\"CNT_TRAFOS_AFEC\", \"cnt_usus\",\"KV\"]] = eventos_interruptor[[\"duracion_h\",\"SAIDI\", \"SAIFI\", \"PHASES\",\"CNT_TRAFOS_AFEC\", \"cnt_usus\",\"KV\"]].astype(\"float32\")"
   ]
  },
  {
   "cell_type": "code",
   "execution_count": 124,
   "metadata": {},
   "outputs": [],
   "source": [
    "eventos_interruptor[[\"inicio\",\"fin\"]] = eventos_interruptor[[\"inicio\",\"fin\"]].astype(\"datetime64[ns]\")"
   ]
  },
  {
   "cell_type": "code",
   "execution_count": 125,
   "metadata": {},
   "outputs": [],
   "source": [
    "eventos_interruptor[[\"FECHA\"]] = eventos_interruptor[[\"FECHA\"]].astype(\"period[M]\")"
   ]
  },
  {
   "cell_type": "code",
   "execution_count": 126,
   "metadata": {},
   "outputs": [],
   "source": [
    "eventos_interruptor.to_pickle(\"C:/Users/lucas/OneDrive - Universidad Nacional de Colombia/PC-GCPDS/Documentos/data/Eventos_interruptor.pkl\")"
   ]
  },
  {
   "cell_type": "code",
   "execution_count": 127,
   "metadata": {},
   "outputs": [
    {
     "data": {
      "text/plain": [
       "evento                     object\n",
       "equipo_ope                 object\n",
       "tipo_equi_ope              object\n",
       "cto_equi_ope               object\n",
       "tipo_elemento              object\n",
       "inicio             datetime64[ns]\n",
       "fin                datetime64[ns]\n",
       "duracion_h                float32\n",
       "tipo_duracion              object\n",
       "causa                      object\n",
       "CNT_TRAFOS_AFEC           float32\n",
       "cnt_usus                  float32\n",
       "SAIDI                     float32\n",
       "SAIFI                     float32\n",
       "ASSEMBLY                   object\n",
       "PHASES                    float32\n",
       "FPARENT                    object\n",
       "KV                        float32\n",
       "STATE                      object\n",
       "LINESECTIO                 object\n",
       "FECHA                   period[M]\n",
       "LONGITUD                  float64\n",
       "LATITUD                   float64\n",
       "DEP                        object\n",
       "MUN                        object\n",
       "dtype: object"
      ]
     },
     "execution_count": 127,
     "metadata": {},
     "output_type": "execute_result"
    }
   ],
   "source": [
    "eventos_interruptor.dtypes"
   ]
  },
  {
   "cell_type": "code",
   "execution_count": 13,
   "metadata": {},
   "outputs": [
    {
     "data": {
      "text/plain": [
       "['CODE',\n",
       " 'PHASES',\n",
       " 'FPARENT',\n",
       " 'OWNER1',\n",
       " 'TRFTYPE',\n",
       " 'ELNODE',\n",
       " 'IMPEDANCE',\n",
       " 'DATE_FAB',\n",
       " 'MARCA',\n",
       " 'TIPO_SUB',\n",
       " 'FECHA',\n",
       " 'GRUPO015',\n",
       " 'FECHA_ACT',\n",
       " 'KVA',\n",
       " 'KV1',\n",
       " 'LONGITUD',\n",
       " 'LATITUD',\n",
       " 'DEP',\n",
       " 'MUN']"
      ]
     },
     "execution_count": 13,
     "metadata": {},
     "output_type": "execute_result"
    }
   ],
   "source": [
    "df_1 = pd.read_pickle(\"C:/Users/lucas/OneDrive - Universidad Nacional de Colombia/PC-GCPDS/Documentos/data/TRAFOS.pkl\")\n",
    "df_1.columns.to_list()"
   ]
  },
  {
   "cell_type": "code",
   "execution_count": 14,
   "metadata": {},
   "outputs": [
    {
     "data": {
      "text/plain": [
       "['CODE',\n",
       " 'ASSEMBLY',\n",
       " 'TOWNER',\n",
       " 'FECHA',\n",
       " 'TIPO',\n",
       " 'CLASE',\n",
       " 'MATERIAL',\n",
       " 'LONG_APOYO',\n",
       " 'TIERRA_PIE',\n",
       " 'VIENTOS',\n",
       " 'LONGITUD',\n",
       " 'LATITUD',\n",
       " 'DEP',\n",
       " 'MUN']"
      ]
     },
     "execution_count": 14,
     "metadata": {},
     "output_type": "execute_result"
    }
   ],
   "source": [
    "df_2 = pd.read_pickle(\"C:/Users/lucas/OneDrive - Universidad Nacional de Colombia/PC-GCPDS/Documentos/data/APOYOS.pkl\")\n",
    "df_2.columns.to_list()"
   ]
  },
  {
   "cell_type": "code",
   "execution_count": 15,
   "metadata": {},
   "outputs": [
    {
     "data": {
      "text/plain": [
       "['CODE',\n",
       " 'ASSEMBLY',\n",
       " 'PHASES',\n",
       " 'FPARENT',\n",
       " 'KV',\n",
       " 'STATE',\n",
       " 'LINESECTIO',\n",
       " 'FECHA',\n",
       " 'LONGITUD',\n",
       " 'LATITUD',\n",
       " 'DEP',\n",
       " 'MUN']"
      ]
     },
     "execution_count": 15,
     "metadata": {},
     "output_type": "execute_result"
    }
   ],
   "source": [
    "df_3 = pd.read_pickle(\"C:/Users/lucas/OneDrive - Universidad Nacional de Colombia/PC-GCPDS/Documentos/data/SWITCHES.pkl\")\n",
    "df_3.columns.to_list()"
   ]
  },
  {
   "cell_type": "code",
   "execution_count": 16,
   "metadata": {},
   "outputs": [
    {
     "data": {
      "text/plain": [
       "['CODE',\n",
       " 'PHASES',\n",
       " 'FPARENT',\n",
       " 'ELNODE1',\n",
       " 'ELNODE2',\n",
       " 'CONDUCTOR',\n",
       " 'NEUTRAL',\n",
       " 'LENGTH',\n",
       " 'KVNOM',\n",
       " 'CLASS',\n",
       " 'TOWNER',\n",
       " 'FECHA',\n",
       " 'MATERIALCONDUCTOR',\n",
       " 'TIPOCONDUCTOR',\n",
       " 'CALIBRECONDUCTOR',\n",
       " 'GUARDACONDUCTOR',\n",
       " 'NEUTROCONDUCTOR',\n",
       " 'NEUTRO_SECUNDARIOCONDUCTOR',\n",
       " 'NIVEL1CONDUCTOR',\n",
       " 'NIVEL2CONDUCTOR',\n",
       " 'NIVEL3CONDUCTOR',\n",
       " 'NIVEL4CONDUCTOR',\n",
       " 'ACOMETIDACONDUCTOR',\n",
       " 'NEUTRO',\n",
       " 'CALIBRENEUTRO',\n",
       " 'FECHA_ACT',\n",
       " 'CAPACITY',\n",
       " 'RESISTANCE',\n",
       " 'LONGITUD',\n",
       " 'LATITUD',\n",
       " 'LONGITUD2',\n",
       " 'LATITUD2',\n",
       " 'DEP',\n",
       " 'MUN']"
      ]
     },
     "execution_count": 16,
     "metadata": {},
     "output_type": "execute_result"
    }
   ],
   "source": [
    "df_3 = pd.read_pickle(\"C:/Users/lucas/OneDrive - Universidad Nacional de Colombia/PC-GCPDS/Documentos/data/REDMT.pkl\")\n",
    "df_3.columns.to_list()"
   ]
  },
  {
   "cell_type": "code",
   "execution_count": 17,
   "metadata": {},
   "outputs": [
    {
     "data": {
      "text/plain": [
       "['NOM_COMUN',\n",
       " 'TIPO_VEGET',\n",
       " 'ESTADO_INICIAL',\n",
       " 'FECHA',\n",
       " 'LADO_RED',\n",
       " 'DAP_ESTIM',\n",
       " 'LONG_INTER',\n",
       " 'TIPO_INTER',\n",
       " 'NIVEL_RIES',\n",
       " 'CIRCUITO_TRAMO',\n",
       " 'NODO_1',\n",
       " 'NODO_2',\n",
       " 'LONGITUD',\n",
       " 'LATITUD',\n",
       " 'DEP',\n",
       " 'MUN']"
      ]
     },
     "execution_count": 17,
     "metadata": {},
     "output_type": "execute_result"
    }
   ],
   "source": [
    "df_4 = pd.read_pickle(\"C:/Users/lucas/OneDrive - Universidad Nacional de Colombia/PC-GCPDS/Documentos/data/Vegetacion.pkl\")\n",
    "df_4.columns.to_list()"
   ]
  },
  {
   "cell_type": "code",
   "execution_count": 18,
   "metadata": {},
   "outputs": [
    {
     "data": {
      "text/plain": [
       "['ID',\n",
       " 'LATITUD',\n",
       " 'LONGITUD',\n",
       " 'ALTITUD',\n",
       " 'TIPO',\n",
       " 'CORRIENTE',\n",
       " 'ERROR',\n",
       " 'CODE',\n",
       " 'FPARENT',\n",
       " 'DISTANCIA_A_NODO',\n",
       " 'FECHA',\n",
       " 'DEP',\n",
       " 'MUN']"
      ]
     },
     "execution_count": 18,
     "metadata": {},
     "output_type": "execute_result"
    }
   ],
   "source": [
    "df_5 = pd.read_pickle(\"C:/Users/lucas/OneDrive - Universidad Nacional de Colombia/PC-GCPDS/Documentos/data/Rayos.pkl\")\n",
    "df_5.columns.to_list()"
   ]
  }
 ],
 "metadata": {
  "kernelspec": {
   "display_name": "Python 3",
   "language": "python",
   "name": "python3"
  },
  "language_info": {
   "codemirror_mode": {
    "name": "ipython",
    "version": 3
   },
   "file_extension": ".py",
   "mimetype": "text/x-python",
   "name": "python",
   "nbconvert_exporter": "python",
   "pygments_lexer": "ipython3",
   "version": "3.11.9"
  }
 },
 "nbformat": 4,
 "nbformat_minor": 2
}
