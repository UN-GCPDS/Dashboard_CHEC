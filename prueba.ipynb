{
 "cells": [
  {
   "cell_type": "code",
   "execution_count": 5,
   "metadata": {},
   "outputs": [],
   "source": [
    "import random\n",
    "import datetime\n",
    "import operator\n",
    "import numpy as np\n",
    "import pandas as pd\n",
    "from datetime import date\n",
    "from datetime import datetime\n",
    "import matplotlib.pyplot as plt"
   ]
  },
  {
   "cell_type": "code",
   "execution_count": 119,
   "metadata": {},
   "outputs": [],
   "source": [
    "eventos_interruptor = pd.read_csv(\"C:/Users/lucas/OneDrive - Universidad Nacional de Colombia/PC-GCPDS/Documentos/data/Eventos_interruptor.csv\")"
   ]
  },
  {
   "cell_type": "code",
   "execution_count": 120,
   "metadata": {},
   "outputs": [
    {
     "data": {
      "text/plain": [
       "evento               int64\n",
       "equipo_ope          object\n",
       "tipo_equi_ope       object\n",
       "cto_equi_ope        object\n",
       "tipo_elemento       object\n",
       "inicio              object\n",
       "fin                 object\n",
       "duracion_h         float64\n",
       "tipo_duracion       object\n",
       "causa               object\n",
       "CNT_TRAFOS_AFEC      int64\n",
       "cnt_usus             int64\n",
       "SAIDI              float64\n",
       "SAIFI              float64\n",
       "ASSEMBLY            object\n",
       "PHASES             float64\n",
       "FPARENT             object\n",
       "KV                 float64\n",
       "STATE               object\n",
       "LINESECTIO          object\n",
       "FECHA               object\n",
       "LONGITUD           float64\n",
       "LATITUD            float64\n",
       "DEP                 object\n",
       "MUN                 object\n",
       "dtype: object"
      ]
     },
     "execution_count": 120,
     "metadata": {},
     "output_type": "execute_result"
    }
   ],
   "source": [
    "eventos_interruptor.dtypes"
   ]
  },
  {
   "cell_type": "code",
   "execution_count": 121,
   "metadata": {},
   "outputs": [],
   "source": [
    "eventos_interruptor[[\"evento\"]] = eventos_interruptor[[\"evento\"]].astype(\"object\")"
   ]
  },
  {
   "cell_type": "code",
   "execution_count": 123,
   "metadata": {},
   "outputs": [],
   "source": [
    "eventos_interruptor[[\"duracion_h\",\"SAIDI\", \"SAIFI\", \"PHASES\",\"CNT_TRAFOS_AFEC\", \"cnt_usus\",\"KV\"]] = eventos_interruptor[[\"duracion_h\",\"SAIDI\", \"SAIFI\", \"PHASES\",\"CNT_TRAFOS_AFEC\", \"cnt_usus\",\"KV\"]].astype(\"float32\")"
   ]
  },
  {
   "cell_type": "code",
   "execution_count": 124,
   "metadata": {},
   "outputs": [],
   "source": [
    "eventos_interruptor[[\"inicio\",\"fin\"]] = eventos_interruptor[[\"inicio\",\"fin\"]].astype(\"datetime64[ns]\")"
   ]
  },
  {
   "cell_type": "code",
   "execution_count": 125,
   "metadata": {},
   "outputs": [],
   "source": [
    "eventos_interruptor[[\"FECHA\"]] = eventos_interruptor[[\"FECHA\"]].astype(\"period[M]\")"
   ]
  },
  {
   "cell_type": "code",
   "execution_count": 126,
   "metadata": {},
   "outputs": [],
   "source": [
    "eventos_interruptor.to_pickle(\"C:/Users/lucas/OneDrive - Universidad Nacional de Colombia/PC-GCPDS/Documentos/data/Eventos_interruptor.pkl\")"
   ]
  },
  {
   "cell_type": "code",
   "execution_count": 127,
   "metadata": {},
   "outputs": [
    {
     "data": {
      "text/plain": [
       "evento                     object\n",
       "equipo_ope                 object\n",
       "tipo_equi_ope              object\n",
       "cto_equi_ope               object\n",
       "tipo_elemento              object\n",
       "inicio             datetime64[ns]\n",
       "fin                datetime64[ns]\n",
       "duracion_h                float32\n",
       "tipo_duracion              object\n",
       "causa                      object\n",
       "CNT_TRAFOS_AFEC           float32\n",
       "cnt_usus                  float32\n",
       "SAIDI                     float32\n",
       "SAIFI                     float32\n",
       "ASSEMBLY                   object\n",
       "PHASES                    float32\n",
       "FPARENT                    object\n",
       "KV                        float32\n",
       "STATE                      object\n",
       "LINESECTIO                 object\n",
       "FECHA                   period[M]\n",
       "LONGITUD                  float64\n",
       "LATITUD                   float64\n",
       "DEP                        object\n",
       "MUN                        object\n",
       "dtype: object"
      ]
     },
     "execution_count": 127,
     "metadata": {},
     "output_type": "execute_result"
    }
   ],
   "source": [
    "eventos_interruptor.dtypes"
   ]
  }
 ],
 "metadata": {
  "kernelspec": {
   "display_name": "Python 3",
   "language": "python",
   "name": "python3"
  },
  "language_info": {
   "codemirror_mode": {
    "name": "ipython",
    "version": 3
   },
   "file_extension": ".py",
   "mimetype": "text/x-python",
   "name": "python",
   "nbconvert_exporter": "python",
   "pygments_lexer": "ipython3",
   "version": "3.11.9"
  }
 },
 "nbformat": 4,
 "nbformat_minor": 2
}
