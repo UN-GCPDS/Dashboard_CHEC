{
 "cells": [
  {
   "cell_type": "code",
   "execution_count": 1,
   "metadata": {},
   "outputs": [],
   "source": [
    "import random\n",
    "import datetime\n",
    "import operator\n",
    "import numpy as np\n",
    "import pandas as pd\n",
    "import seaborn as sns\n",
    "from datetime import date\n",
    "from datetime import datetime\n",
    "import matplotlib.pyplot as plt"
   ]
  },
  {
   "cell_type": "code",
   "execution_count": 9,
   "metadata": {},
   "outputs": [],
   "source": [
    "vegetacion = pd.read_csv('C:/Users/lucas/OneDrive - Universidad Nacional de Colombia/PC-GCPDS/Descargas/Dashboard CHEC/pagina_mapa/data/VegetacionExistente.csv')\n",
    "vegetacion['FECHA'] = pd.to_datetime(vegetacion['FECHA']).dt.to_period('M')"
   ]
  },
  {
   "cell_type": "code",
   "execution_count": 10,
   "metadata": {},
   "outputs": [],
   "source": [
    "vegetacion.to_pickle('./data/Vegetacion.pkl')"
   ]
  },
  {
   "cell_type": "code",
   "execution_count": 11,
   "metadata": {},
   "outputs": [],
   "source": [
    "vegetacion = pd.read_pickle('./data/SWITCHES.pkl')"
   ]
  },
  {
   "cell_type": "code",
   "execution_count": 13,
   "metadata": {},
   "outputs": [
    {
     "data": {
      "text/plain": [
       "0        2019-01-31\n",
       "1        2019-01-31\n",
       "2        2019-01-31\n",
       "3        2019-01-31\n",
       "4        2019-01-31\n",
       "            ...    \n",
       "613419   2024-08-31\n",
       "613420   2024-08-31\n",
       "613421   2024-08-31\n",
       "613422   2024-08-31\n",
       "613423   2024-08-31\n",
       "Name: FECHA, Length: 613424, dtype: datetime64[ns]"
      ]
     },
     "execution_count": 13,
     "metadata": {},
     "output_type": "execute_result"
    }
   ],
   "source": [
    "vegetacion['FECHA']"
   ]
  },
  {
   "cell_type": "code",
   "execution_count": null,
   "metadata": {},
   "outputs": [],
   "source": []
  }
 ],
 "metadata": {
  "kernelspec": {
   "display_name": "venv",
   "language": "python",
   "name": "python3"
  },
  "language_info": {
   "codemirror_mode": {
    "name": "ipython",
    "version": 3
   },
   "file_extension": ".py",
   "mimetype": "text/x-python",
   "name": "python",
   "nbconvert_exporter": "python",
   "pygments_lexer": "ipython3",
   "version": "3.11.9"
  }
 },
 "nbformat": 4,
 "nbformat_minor": 2
}
